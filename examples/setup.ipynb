{
 "cells": [
  {
   "cell_type": "code",
   "execution_count": 1,
   "metadata": {
    "dotnet_interactive": {
     "language": "csharp"
    },
    "polyglot_notebook": {
     "kernelName": "csharp"
    },
    "vscode": {
     "languageId": "polyglot-notebook"
    }
   },
   "outputs": [],
   "source": [
    "#r \"../src/PdfLexer.Interactive/bin/Debug/net7.0/PdfLexer.Interactive.dll\"\n",
    "// #r \"../src/PdfLexer.CMaps/bin/Debug/net7.0/PdfLexer.CMaps.dll\"\n",
    "\n",
    "using PdfLexer;\n",
    "using System.IO;\n",
    "using Microsoft.DotNet.Interactive.Formatting;\n",
    "using PdfLexer.Interactive;\n",
    "using PdfLexer.DOM;\n",
    "using PdfLexer.Content;\n",
    "\n",
    "// only used in text extraction\n",
    "// and not required for many scenarios\n",
    "// CMaps.AddKnownPdfCMaps();\n",
    "\n",
    "static string pdfRoot = Path.GetFullPath(Path.Combine(Environment.CurrentDirectory, \"..\", \"test\", \"pdfs\", \"pdfjs\"));\n",
    "static byte[] GetPdf(string name) => File.ReadAllBytes(Path.Combine(pdfRoot, name));\n",
    "\n",
    "Formatter.Register<PdfPage>(\n",
    "    page => {\n",
    "        var b64 = Task.Run(()=> RenderPage.GetBase64Image(page, 1)).Result;\n",
    "        return $\"\"\"\n",
    "            <div style=\"display:inline-block\">\n",
    "            <div style=\"background: white; float: left;\"><img src=\"data:image/png;base64,{b64}\"></img></div>\n",
    "            <div></div>\n",
    "            </div>\n",
    "            \"\"\";\n",
    "    }, \n",
    "    mimeType: \"text/html\");\n"
   ]
  }
 ],
 "metadata": {
  "language_info": {
   "name": "python"
  },
  "orig_nbformat": 4
 },
 "nbformat": 4,
 "nbformat_minor": 2
}
