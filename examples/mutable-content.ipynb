{
 "cells": [
  {
   "cell_type": "code",
   "execution_count": 16,
   "metadata": {
    "dotnet_interactive": {
     "language": "csharp"
    },
    "polyglot_notebook": {
     "kernelName": "csharp"
    },
    "vscode": {
     "languageId": "polyglot-notebook"
    }
   },
   "outputs": [
    {
     "data": {
      "text/html": [
       "<div style=\"display:inline-block\">\n",
       "<div style=\"background: white; float: left; border: 1px black;\"><img src=\"data:image/png;base64,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\"></img></div>\n",
       "<div></div>\n",
       "</div>"
      ]
     },
     "metadata": {},
     "output_type": "display_data"
    }
   ],
   "source": [
    "#!import \"setup.ipynb\"\n",
    "\n",
    "using PdfLexer.Writing;\n",
    "\n",
    "var doc = PdfDocument.Create();\n",
    "var pg = doc.AddPage();\n",
    "{\n",
    "\n",
    "    var f1 = new FormWriter();\n",
    "    f1.Font(Base14.Helvetica, 40)\n",
    "        .Text(\"A\")\n",
    "        .NewLine()\n",
    "        .Text(\"B\")\n",
    "        .TextShift(0, -40)\n",
    "        .Text(\"C\")\n",
    "        .NewLine()\n",
    "        .Text(\"D\")\n",
    "        .ResetText()\n",
    "        .Translate(0, -160)\n",
    "        .Text(\"E\")\n",
    "        .NewLine()\n",
    "        .Text(\"F\");\n",
    "    var form = f1.Complete();\n",
    "\n",
    "    var f2 = new FormWriter();\n",
    "    f2.Font(Base14.Helvetica, 40)\n",
    "        .Translate(50, 0)\n",
    "        .Save()\n",
    "        .Text(\"A\")\n",
    "        .NewLine()\n",
    "        .Text(\"B\")\n",
    "        .TextShift(0, -40)\n",
    "        .Text(\"C\")\n",
    "        .NewLine()\n",
    "        .Text(\"D\")\n",
    "        .ResetText()\n",
    "        .Translate(0, -160)\n",
    "        .Text(\"E\")\n",
    "        .NewLine()\n",
    "        .Text(\"F\")\n",
    "        .Restore()\n",
    "        .Translate(50, 0)\n",
    "        .Form(form);\n",
    "    var form2 = f2.Complete();\n",
    "\n",
    "    using var writer = pg.GetWriter();\n",
    "    writer.Font(Base14.Helvetica, 40)\n",
    "        .Save()\n",
    "        .Translate(50, 300)\n",
    "        .Text(\"A\")\n",
    "        .NewLine()\n",
    "        .Text(\"B\")\n",
    "        .TextShift(0, -40)\n",
    "        .Text(\"C\")\n",
    "        .NewLine()\n",
    "        .Text(\"D\")\n",
    "        .ResetText()\n",
    "        .Translate(0, -160)\n",
    "        .Text(\"E\")\n",
    "        .NewLine()\n",
    "        .Text(\"F\")\n",
    "        .Restore()\n",
    "        .Translate(50, 300)\n",
    "        .Form(form2);\n",
    "}\n",
    "\n",
    "display(pg);"
   ]
  },
  {
   "attachments": {},
   "cell_type": "markdown",
   "metadata": {},
   "source": [
    "## Mutable Content Model\n",
    "\n",
    "Page content model can be created using `PdfPage.GetContentModel()`. The method accepts a boolean to flatten forms (default false). Form flattening can have adverse side effects in some advanced scenarios (mainly with transparency group handling). When form flattening is true any references forms will be merged into the main content view  all content will be returned in a single list."
   ]
  },
  {
   "cell_type": "code",
   "execution_count": 17,
   "metadata": {
    "dotnet_interactive": {
     "language": "csharp"
    },
    "polyglot_notebook": {
     "kernelName": "csharp"
    },
    "vscode": {
     "languageId": "polyglot-notebook"
    }
   },
   "outputs": [
    {
     "data": {
      "text/html": [
       "<span>Text</span>"
      ]
     },
     "metadata": {},
     "output_type": "display_data"
    }
   ],
   "source": [
    "using PdfLexer.Writing;\n",
    "using PdfLexer.Content.Model;\n",
    "{\n",
    "    \n",
    "    \n",
    "    var model = pg.GetContentModel();\n",
    "\n",
    "    display(model.First().Type);\n",
    "}"
   ]
  },
  {
   "attachments": {},
   "cell_type": "markdown",
   "metadata": {},
   "source": [
    "TODO types:\n",
    "\n",
    "    Text,\n",
    "    Paths,\n",
    "    Image,\n",
    "    Form,\n",
    "    Shading,\n",
    "\n",
    "\n",
    "TODO: CachedContentMutation"
   ]
  },
  {
   "cell_type": "code",
   "execution_count": 18,
   "metadata": {
    "dotnet_interactive": {
     "language": "csharp"
    },
    "polyglot_notebook": {
     "kernelName": "csharp"
    },
    "vscode": {
     "languageId": "polyglot-notebook"
    }
   },
   "outputs": [
    {
     "ename": "Error",
     "evalue": "(7,53): error CS1061: 'TextContent<double>' does not contain a definition for 'EnumerateCharacters' and no accessible extension method 'EnumerateCharacters' accepting a first argument of type 'TextContent<double>' could be found (are you missing a using directive or an assembly reference?)",
     "output_type": "error",
     "traceback": [
      "(7,53): error CS1061: 'TextContent<double>' does not contain a definition for 'EnumerateCharacters' and no accessible extension method 'EnumerateCharacters' accepting a first argument of type 'TextContent<double>' could be found (are you missing a using directive or an assembly reference?)"
     ]
    }
   ],
   "source": [
    "\n",
    "\n",
    "\n",
    "{\n",
    "    var formReader = new CachedContentMutation(f => { \n",
    "            var bb = f.GetBoundingBox();\n",
    "            if (f is TextContent<double> txt && txt.EnumerateCharacters().Any(x=> x== 'A')) {\n",
    "                display(f);\n",
    "            }\n",
    "            if (bb.LLy > 200) {\n",
    "                f.Transform(new GfxMatrix<double> { E = -40, F = 40 });\n",
    "            } else {\n",
    "                f.Transform(new GfxMatrix<double> { E = 40, F = -40 });\n",
    "            }\n",
    "            return f; \n",
    "        });\n",
    "\n",
    "    var pg2 = formReader.Mutate(pg);\n",
    "\n",
    "\n",
    "    display(pg2);\n",
    "}"
   ]
  }
 ],
 "metadata": {
  "language_info": {
   "name": "python"
  },
  "orig_nbformat": 4
 },
 "nbformat": 4,
 "nbformat_minor": 2
}
