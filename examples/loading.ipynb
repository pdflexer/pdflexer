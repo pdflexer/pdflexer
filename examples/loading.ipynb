{
 "cells": [
  {
   "cell_type": "code",
   "execution_count": 1,
   "metadata": {
    "dotnet_interactive": {
     "language": "csharp"
    },
    "polyglot_notebook": {
     "kernelName": "csharp"
    }
   },
   "outputs": [],
   "source": [
    "#!import \"setup.ipynb\""
   ]
  },
  {
   "attachments": {},
   "cell_type": "markdown",
   "metadata": {},
   "source": [
    "### Load basic information from a PDF"
   ]
  },
  {
   "cell_type": "code",
   "execution_count": 2,
   "metadata": {
    "dotnet_interactive": {
     "language": "csharp"
    },
    "polyglot_notebook": {
     "kernelName": "csharp"
    }
   },
   "outputs": [
    {
     "name": "stdout",
     "output_type": "stream",
     "text": [
      "Pdf version is: 1.7\n",
      "Pdf has 3 page(s)\n",
      "Catalog: <<Type Catalog Version 1.7 Pages 1 0 R Names <<>> Dests 31 0 R ViewerPreferences <<Direction L2R >> PageLayout SinglePage PageMode UseOutlines Outlines 35 0 R OpenAction [15 0 R FitH null ] Metadata 37 0 R Lang (??\u0000e\u0000n) >>\n",
      "Trailer: <<Size 39 Root 38 0 R Info 36 0 R ID [<EA8B35919D6279A369E835BDE778611B> <EA8B35919D6279A369E835BDE778611B> ] >>\n",
      "CropBox: [0.00 0.00 595.28 841.89]\n"
     ]
    }
   ],
   "source": [
    "{\n",
    "    using var doc = PdfDocument.Open(GetPdf(\"basicapi.pdf\"));\n",
    "    Console.WriteLine(\"Pdf version is: \" + doc.PdfVersion);\n",
    "    Console.WriteLine($\"Pdf has {doc.Pages.Count} page(s)\");\n",
    "    Console.WriteLine(\"Catalog: \" + doc.Catalog);\n",
    "    Console.WriteLine(\"Trailer: \" + doc.Trailer);\n",
    "    Console.WriteLine(\"CropBox: \" + doc.Pages.First().CropBox);\n",
    "}"
   ]
  },
  {
   "attachments": {},
   "cell_type": "markdown",
   "metadata": {},
   "source": [
    "### Get Information from a page"
   ]
  },
  {
   "cell_type": "code",
   "execution_count": 3,
   "metadata": {
    "dotnet_interactive": {
     "language": "csharp"
    },
    "polyglot_notebook": {
     "kernelName": "csharp"
    }
   },
   "outputs": [
    {
     "name": "stdout",
     "output_type": "stream",
     "text": [
      "                                  Table Of  Content\n",
      "\n",
      "       Chapter 1  ..........................................................  2\n",
      "         Paragraph 1.1 ......................................................\n",
      "\n",
      "                                                                       3 page 1 / 3\n",
      "\r\n"
     ]
    },
    {
     "data": {
      "text/html": [
       "<div style=\"display:inline-block\">\n",
       "<div style=\"background: white; float: left;\"><img src=\"data:image/png;base64,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\"></img></div>\n",
       "<div></div>\n",
       "</div>"
      ]
     },
     "metadata": {},
     "output_type": "display_data"
    }
   ],
   "source": [
    "using PdfLexer.Content;\n",
    "\n",
    "{\n",
    "    using var doc = PdfDocument.Open(GetPdf(\"basicapi.pdf\"));\n",
    "    \n",
    "    Console.WriteLine(doc.Pages.First().GetTextVisually(doc.Context));\n",
    "\n",
    "    display(doc.Pages[0]);\n",
    "}\n"
   ]
  }
 ],
 "metadata": {
  "kernelspec": {
   "display_name": ".NET (C#)",
   "language": "C#",
   "name": ".net-csharp"
  },
  "language_info": {
   "name": "polyglot-notebook"
  },
  "orig_nbformat": 4,
  "polyglot_notebook": {
   "kernelInfo": {
    "defaultKernelName": "csharp",
    "items": [
     {
      "aliases": [],
      "name": "csharp"
     }
    ]
   }
  }
 },
 "nbformat": 4,
 "nbformat_minor": 2
}
