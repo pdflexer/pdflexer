{
 "cells": [
  {
   "cell_type": "code",
   "execution_count": 18,
   "metadata": {
    "dotnet_interactive": {
     "language": "csharp"
    },
    "polyglot_notebook": {
     "kernelName": "csharp"
    }
   },
   "outputs": [],
   "source": [
    "#!import \"setup.ipynb\"\n",
    "\n",
    "using PdfLexer.Content;\n",
    "using PdfLexer.Content.Model;\n",
    "using PdfLexer.Writing;\n"
   ]
  },
  {
   "attachments": {},
   "cell_type": "markdown",
   "metadata": {},
   "source": []
  },
  {
   "attachments": {},
   "cell_type": "markdown",
   "metadata": {},
   "source": [
    "## PDF Text Redaction\n",
    "\n",
    "This demonstrates the current redaction functionality of pdflexer. It is currently implemented using the `SinglePassRedactor` class in the `Pdflexer.Content` namespace. More user friendly redaction capabilities are planned.\n",
    "\n",
    "We will first create a pdf page with some text content on it."
   ]
  },
  {
   "cell_type": "code",
   "execution_count": 19,
   "metadata": {
    "dotnet_interactive": {
     "language": "csharp"
    },
    "polyglot_notebook": {
     "kernelName": "csharp"
    }
   },
   "outputs": [
    {
     "data": {
      "text/html": [
       "<div style=\"display:inline-block\">\n",
       "<div style=\"background: white; float: left; border: 1px black;\"><img src=\"data:image/png;base64,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\"></img></div>\n",
       "<div></div>\n",
       "</div>"
      ]
     },
     "metadata": {},
     "output_type": "display_data"
    }
   ],
   "source": [
    "var doc = PdfDocument.Create();\n",
    "var pg = doc.AddPage(400, 200);\n",
    "{\n",
    "    using var writer = pg.GetWriter();\n",
    "    writer.Font(Base14.Helvetica, 16)\n",
    "        .TextMove(25, 100)\n",
    "        .Text(\"This is test text paragraph\")\n",
    "        .NewLine()\n",
    "        .Text(\"that we will redact an area from\")\n",
    "        .NewLine()\n",
    "        .Text(\"and the redacted text is no longer in the \")\n",
    "        .NewLine()\n",
    "        .Text(\"document in any form.\");\n",
    "}\n",
    "display(pg);"
   ]
  },
  {
   "cell_type": "markdown",
   "metadata": {},
   "source": [
    "Next we determine the areas of the page we want to redact using the `SimpleWordScanner` (from `PdfPage.GetWordScanner()`) and matching on words containing \"text\". In a real redaction scenario that should match on words it is advisable to use the `TextScanner` (from `PdfPage.GetTextScanner()`) and build the returned characters into words using a more robust method than the `SimpleWordScanner` as the simple word scanner may sometimes return partial words that may result in missed words in the document. More advanced character to word helpers are planned but for now this would need to be manually implemented."
   ]
  },
  {
   "cell_type": "code",
   "execution_count": 20,
   "metadata": {
    "dotnet_interactive": {
     "language": "csharp"
    },
    "polyglot_notebook": {
     "kernelName": "csharp"
    }
   },
   "outputs": [
    {
     "data": {
      "text/html": [
       "<table><thead><tr><th><i>index</i></th><th>value</th></tr></thead><tbody><tr><td>0</td><td><details class=\"dni-treeview\"><summary><span class=\"dni-code-hint\"><code>[106.13599970245362 99.888 130.88799956512452 110.70400000000001]</code></span></summary><div><table><thead><tr></tr></thead><tbody><tr><td>LLx</td><td><div class=\"dni-plaintext\"><pre>106.13599970245362</pre></div></td></tr><tr><td>LLy</td><td><div class=\"dni-plaintext\"><pre>99.888</pre></div></td></tr><tr><td>URx</td><td><div class=\"dni-plaintext\"><pre>130.88799956512452</pre></div></td></tr><tr><td>URy</td><td><div class=\"dni-plaintext\"><pre>110.70400000000001</pre></div></td></tr></tbody></table></div></details></td></tr><tr><td>1</td><td><details class=\"dni-treeview\"><summary><span class=\"dni-code-hint\"><code>[149.75199892425536 67.888 174.50399878692627 78.70400000000001]</code></span></summary><div><table><thead><tr></tr></thead><tbody><tr><td>LLx</td><td><div class=\"dni-plaintext\"><pre>149.75199892425536</pre></div></td></tr><tr><td>LLy</td><td><div class=\"dni-plaintext\"><pre>67.888</pre></div></td></tr><tr><td>URx</td><td><div class=\"dni-plaintext\"><pre>174.50399878692627</pre></div></td></tr><tr><td>URy</td><td><div class=\"dni-plaintext\"><pre>78.70400000000001</pre></div></td></tr></tbody></table></div></details></td></tr></tbody></table><style>\r\n",
       ".dni-code-hint {\r\n",
       "    font-style: italic;\r\n",
       "    overflow: hidden;\r\n",
       "    white-space: nowrap;\r\n",
       "}\r\n",
       ".dni-treeview {\r\n",
       "    white-space: nowrap;\r\n",
       "}\r\n",
       ".dni-treeview td {\r\n",
       "    vertical-align: top;\r\n",
       "    text-align: start;\r\n",
       "}\r\n",
       "details.dni-treeview {\r\n",
       "    padding-left: 1em;\r\n",
       "}\r\n",
       "table td {\r\n",
       "    text-align: start;\r\n",
       "}\r\n",
       "table tr { \r\n",
       "    vertical-align: top; \r\n",
       "    margin: 0em 0px;\r\n",
       "}\r\n",
       "table tr td pre \r\n",
       "{ \r\n",
       "    vertical-align: top !important; \r\n",
       "    margin: 0em 0px !important;\r\n",
       "} \r\n",
       "table th {\r\n",
       "    text-align: start;\r\n",
       "}\r\n",
       "</style>"
      ]
     },
     "metadata": {},
     "output_type": "display_data"
    }
   ],
   "source": [
    "// performance enhancement, this should be disposed but leaving so \n",
    "// caching persists between notebook sections\n",
    "var cache = new StreamContentsCache();\n",
    "\n",
    "var areas = new List<PdfRect<double>>();\n",
    "\n",
    "void FindWords() // wrap in function due to polyglot notebook / ref struct\n",
    "{\n",
    "    var scanner = pg.GetWordScanner();\n",
    "    while (scanner.Advance()) \n",
    "    {\n",
    "        if (scanner.CurrentWord.Contains(\"text\")) \n",
    "        {\n",
    "            var bbox = scanner.GetWordBoundingBox();\n",
    "            areas.Add(bbox);\n",
    "        }\n",
    "    }\n",
    "}\n",
    "FindWords();\n",
    "\n",
    "display(areas);\n"
   ]
  },
  {
   "cell_type": "markdown",
   "metadata": {},
   "source": [
    "Next we use the `SinglePassRedactor` to remove characters that intersect the page areas we determined previously. We are enabling spacing randomization on the `SinglePassRedactor` to add some random spacing to each removed character.\n",
    "\n",
    "Once completed the document is displayed and actual content stream showing the text has been completely removed from the pdf page and replaced with extra space."
   ]
  },
  {
   "cell_type": "code",
   "execution_count": 21,
   "metadata": {
    "dotnet_interactive": {
     "language": "csharp"
    },
    "polyglot_notebook": {
     "kernelName": "csharp"
    }
   },
   "outputs": [
    {
     "data": {
      "text/html": [
       "<div style=\"display:inline-block\">\n",
       "<div style=\"background: white; float: left; border: 1px black;\"><img src=\"data:image/png;base64,iVBORw0KGgoAAAANSUhEUgAAAZAAAADICAYAAADGFbfiAAAACXBIWXMAAA7EAAAOxAGVKw4bAAAhzElEQVR4nO2dCbgsR1XHT0ICgQgBhRCWmKAYCLgAIgIqPhYREHGJgIKBKCAuoChuENGAKJuCiiKrvqCCKKsEQiIhMQlIIGBUlE3gEgyyCAQhbNnsH3X6u/06PdM9defOnffe7/d99b13Z6arq6u7z7/q1HIOChERkQoUEBERqUIBERGRKhQQERGpQgEREZEqFBAREalCARERkSoUEBERqUIBERGRKhQQERGpQgEREZEqFBAREalCARERkSoUEBERqUIBERGRKhQQERGpQgEREZEqFBAREalCARERkSoUEBERqUIBERGRKhQQERGpQgEREZEqFBAREalCARERkSoUEBERqUIBERGRKhQQERGpQgEREZEqFBAREalCARERkSoUEBERqUIBERGRKhQQERGpQgEREZEqFBAREalCARERkSoUEBERqUIBERGRKhQQERGpQgEREZEqFBAREalCARERkSoUEBERqUIBERGRKhQQERGpQgEREZEqFBAREalCARERkSoUEBERqUIBERGRKhQQERGpQgEREZEqFBAREalCARERkSoUEBERqUIBERGRKhQQERGpQgEREZEqFBAREalCARERkSoUEBERqUIBERGRKhQQERGpQgEREZEqFBAREalCARERkSoUEBERqUIBERGRKhQQERGpQgEREZEqFBAREalCARERkSoUEBERqUIBERGRKhQQERGpQgEREZEqFBAREalCARERkSoUEBERqUIBERGRKhQQERGpQgEREZEqFBAREalCARERkSoUEBERqUIBERGRKhQQERGpYhUCcmCT7t+k2zTpgBm/ubJJpzfpf5v0g016SZM2Zvz2Wyb8Zh5bPR6ot0Oa9PlYLoc16XNNuiJkp7luk366Sf/apDNCRK7Cqnogt23SD0QREATlqCZ9pUkX5fcYzI0mXb9Jv9Ckc2K2cb/lhN/MY6vHH9GkFzTp1CY9J5bD1Zp0YpO+uUknNOkLITsNYv6IJr2sSWeGoi5yFVYhILx4v5kJDm/SKU367yY9oEmXdX57/wn5/X2mWrZ6/PWa9G1RekzLAgG5XZOuHiIiewnrOgaCIf2hJn1rkz7apNc26RP5Xd8Fda0m3T0/v7RJ5zbpbU26fEbeWzme3gdujes06T5RelHP63xHL+umTfpQFJH8dOfYWeehV3Z8lJ4RvbPfaNJfNOnDsbNQluOiuOreHKXOrtGks5p0fuzZIv/aJt2zScdEcUe+s0lvbNKXY9OFybNGo+G7mvSOKG6h68w5rgVX0n2bdHST/q1J743ybLy8SZ+Jcj/+uUnf2KQbNul1TXr3SJla99S5eU3fE+Ve8Zy1veIW7g/ifre85n+M4tYS2e9ZRwHB0P5Zkw6O8jJjcH8xijH7r9jTBfV/TdodxShhXDBIJzXpj5r0O7Fn76ZlK8cjbBgp6g0DdUR+fq8mPT+KsaSMuD4e36SHNum8/O2s8/xek26Q183xN4litHcaDCcieecoPSQEnOv/7SY9s0lPjiKgd2rSX0UpM8ada/mtJr20ST8fxWAjALvy9x+P0gv9YhShnHUcbjzu/d806cj8zS/k8bg6WxH7mUyIBIKyEUUg5pWpdU/dP/NGcG6ev3lYk07r1MGPN+nhTfpA/pbf/FzmJbJfs44CQovwX5r0s036bBTjs7tJd41inLvcMUrr8CejjElg6E5q0vdF6RlcOHKuRY/n76dEMYZ/3aRnRzEqfPaWKMaJluzhWWY+P27CeZ6Zv8FAI5brNAZCjwr3I+M9lBthfGSUHsRbm/SYJl3cpB+NUj88U4jig6P0Cv4z8zk0iiHGOHOPXzxy3PujjAvx+a4orf6jo9T7UZ3yYeSp8x9u0scm5k3DAbFGWH6kSW9v0o0ybwTi/E7ecJ88/42b9A9RhOeVsWdPSWS/Yx0FhJYprbvP5t/vijI760YDv2XGEkb3Efk3vYonZJrCVo+HO0QxsrSmj+l8Ts8DEbzFhPOs89jHv0cZSL48E64/hBBB5zp+Pcpz1IothpneCmJzaCefjSi9L7h0wnGIBHX7l7HpMiIPJjA8vZMvPY/zYtPFOSVvBITey6uiuNPgf6IIz1ObdKs8lrzflHUA9H7+I4qQ0WNUQGS/Zh0F5EtRWo8tvOgYrqGyYjie0aRfi9ICxVCfHcUFdnqMz5zZ6vGAsDGw/icD3zHNl1buaSPnWWcYg+qO5SDsuIpwtV2R3z0oiuHFDfQNTbpmlHt4YOc4rvlL+f8px9GLw9hv9MrDOMoXe599qvP/qWVCHN4fe95jejD0OrhnrYB8sncuBOpqMXtKush+wzoKCFw58Xf41DHMuFfuEmWQmsFeXBG4Gc7c5uOBVig9JNwlb5nzu3nneXOsL7iEeE7a8aCD8jPE8WuiuOAYrH51/p/eAtORn9TL58rYvK9TjqNeMe6H7pnNV8c1rjaQdysEi5TpmjP+7grU1GdRZL9jXQVkKvimadEzoHtqJnzTuCZwHY0JQM3xXUMIDNLSqt0VZUygNWQPzc8wWseOnOecWF9DhVvu6Ca9J/9mZhwTCRgnoGWPINKTemKUa6cuGFeY10qfchw9ACZRMPEAN1Y7o+s7o7iPZjG1THzGBIEXRukZ8R2zsehhvS9EZJS9XUBwi9CSZ1YOhgBXF9MzcTNcsE3HfznTPaIYGqaCviGKe4rWL6Lz7U365ShTXnGB3HTkPIjHJVFayQ+MMhW19envNDdr0nOjGGRcdb8aZRwA1xuGHIPLZIB/inIN94syWM41zRrb+eyE43AnMSaBCDwryrRoJho8OvOYJbhT8gaEBFHHrUV9f2+Ue/LHUaZhHxkiMpe9XUBw/TwqyqAp6wJobTIoyrTOt27T8YwJvCLKlFL867du0i816SNR/O4YWIw/EwF+P4qrZ8p5GKj+7ib9aRQD+MpYDxA4ell/HqXczEL63dgcG0A46WW9Poogs9aCa2X84ZuijPX0+fCE4xBi3E8H5ucnZFleFKWeZ63zmZL3B/NauI/MyqLuL8rrek646lxkEjshIBjXO8z4bmiVOK6MW8/5zSsyTWWrx9P7eFymFgaVT8w0RGus5p3ntZnWDaYUc62PnPH96zP1eUnn/8dXHEdP4egogvFHne9Zp0F9MpNqI4oLcNG822nArO14aAwLBkJ0bO8zROvhISJfZW/vgci+CwPa9HrowbF+g54ECzKZrEBv76IQkR1FAZF1BTcevQ+mR+PuoyeKy5BnlvU1nwwR2VEUEJkF7po/jM2FdzsB25gw2+v7o0xA+Lsog+kf3WK+LAhkUSeLBx3vEKlk1QLSxrsAtvjAJXFybC4w22q+e4MxaDcpbK8dHz6bMLImpN2h+NpRZiBt90pnyoAhZf3KOQPfv6syX2ZnIUDLKP97My0TnrdzYzVQx2z3wnRkZncxnmTvSfYJViUg/XgXGBbWYDADhgHtWgHZG+NotJsUttdO2ZnRxZYZ+PWZcsomjbS2t1tAmJbL4DjG/pxYDmxxwr5TuJn+LYT6/ZUoU7ppIHwlRPYRVikg2xHvYm+Mo4Gx/qnYd2Gc4utDgOeT+mDdDGtM1mVtj8hSWIWAcI5+vIuTO9+z5xHbebD/ELvw9uNBzIrrcHmMx9HAFYSxZgD21fnZ10Vx2+AWeVV+xrl5wVl7QIwOtstgoSBheFmIxl5W/xnDcP4fizJF99352e2jLBx8Wee422eeu6OseG5dWIswL7YGW40Q+fFuWf635fV0t6TnOBbMsZob//9QD2FeHI0W8mehHoG1mCXFQkpWqt85r5t6Z93F30bpWQ0xFkMENx8Ng7Oi7Mh8eP6GeBzzWvFXz3r5jijjNzwPLBT8eGy9/ubl3YfvefZYVMr28jyfr4myd9rQ+a/IfLk/Bw+c/1uyvqhT6pkpxtT5KXld1DtrXLinp4YbPcoKWFVM9FnxLnjgMc7/m3+zlTa+f7Y0x601L9bEY2I8jgYvES8bAYh4GZnZwxoU/NBs4Y3BYuyEFc64kRgLYAUys38wshh/VpcTA+OkKIv8+gvYePFPiPKivzvLwkI3VkxfknkcmL/BCLASvevCWgTcX0OxNSg3CxhZ/X5hXieLFqlbYlew2eBhWX4M83vyuuB6nfzHYnt8Ict9cl7Lu/I31A+LKWlhI9C0vDGU151xHVNiiFBHd8i8v5DXzm9elNc5ZCA5N/V719gcv2HrlcdGEfn3baH+xvJuGw8t3HNckdQze4fxXB024/yIBQsffzrL2K41YrU/rkDq9ZZZvgdmPqygZ5t9xBvBvnHmyXGs3H98iGwzqxAQHup+vIv25efB5wVki25eOLbpZp4/+xmxyGterIkjYzyOBudGOH4zf49huH1+d3SULUYwYKwAp0XIy4vBYqEZvYW35zl/LRMzgvobH1IuWn0YxUMy0ZKlZY4IYTwOy/OeEZvb1G+FbmwNYEuOn83rZPU2IkcvByONAWQPLlre944ilCdnOZ+S30eWcyy2B0aSljRiTRAtIgFyD+n54efH6O+OEozrxBju4Uw5T9trwxX2S5knv2FWGI0BtlX5j4G8GT+iVc/iwNfkZ5STCQoY/naPq5r6G8u7LyCfy3rgGWM7GMZCmM32gIHzPyyvHdF6bp6fHgXvBaLRLlql10ajh3tIA+uZWT4WWt43f8Mx3GcFRLadnZ7Gi0iw+vqKTGyvTguLF4VW8tRYE/M4L//F3cIWFrgJ2n2VcAOw5xKGnlYoi9d2xaZw3DGPbWcB4V7oCwgv8llRXuqbZLmYcorLDPcFGw9iCGlpnh3LmSm2EZvGmbrAeHyqc32R52G7clwybOGBy4k6fU1+h9jSov6R/P2UOBpcC0LJKu+35W8wlI/O76f4+Kecp4Xn4w1ZXhoDCBY9qMNm5E2dvz2vuwXB5h51e0MbsVj9PXmBvKfQPT+NH4QIAcI91fZwERfcf3fvHMe5cLtekn8jop/JsrWNMvK5Y4isgJ0WEFpk3RlY7cvDS71IrIl5YIR46Wk90oPAmD89/8VY0POglfgHUULN4tJ5cKYu+OmHglpBG5nvmzMPjHO7QR9uOsZSeNGXNSupG1vj4CwXYnjqwG/ZyhyjjJuI6aPdNR0YzdZ9OKW+uTaMJb7/rivvYwuUvTaGCOAm5D70t3NvwaAj2vRajs18r5/fdXcGXrT+Fsl7Ct3zXzPz+Xjs2TvlWpn2e/vOZ/1YOdwDBPmS3mciK2GnBWTeFuaLxHWYBy8rU1Rxr9wpNiPY0UrDIGBAP595c05eXCIFPnmBc+Aawagy3oKRfU+e4zN5Hnz5iNeyZuF0t5RvW+dnRelNXDzw+zZ6Hm4rWrztwCyG+OD8/5T6vjRTO+7U9qboMWKEPzCh7IvGEFkEXEHEXaGnwqaPtNARzZcN5LtI/S2S9xS65+deUKf9uCtw7d7f3bgnIjvOqgSEh35RYzAlrsPUfFk09pAo/mcMPestcFnhZ8b4MbuHWUnXye/vmuf9TB7PYCl+aFZGnzKQP616XFv3yrI9P/NjsBU//2F57OUxu/VcCwaGng07+94qNoNaYXyemNfA+AI72eIeZIyhDdHKwOxN8v9T6huxpX4QRETk83ks4wL0wH4wxg1cbQyRMRBHxjKoc3qPbRRFVrEfFrN7rFPq7xmVeU/hi5kv+d88Ngfo6TFSzx8KkTVlVQLSj3fxhgnHTInrMDWOBoOytCwZGMco4ArAiF4tj2UQEkOCYWBA+Fn57+4ohpIBYlw3vz+jrBhBejmMg9CavSDzQ1R+IorRfWdsD5ybVjDi+MIsO2456gOj/Ov5GwTsuM5vuC4mBlwn85lS39Th7ij1RR4sdsSdQ/0wLsJYETsnH5rn57hWrFqmxutYFFrxbHFCrxLRZrzidrEZp+UaM46bUn+1eU+B8zPzkMkBL8jz4wJlqjmC8rQQWVNWJSC0vLvxLk6YcMzUmBFT4mjgajgvjzk/P2MA931ZtvM7v+VlRmCY/cK0UoxHG8+jbwy7/Hvmye8/mJ8hJLRgWd/ykdg+EEgMHrN+MDiIA8Ycw96uNaFl+5NRpiPjNsJI4UJqW/xT65tZR5dl3uTH9SFOzOjCTYaL552ZFxMHHtEr65TzDMUQGYP7SE8LQWQ8C9fcBZkn5bzVnGPH6m8reU+h7R0yA7CNgXJ+5n16iKwpqxwD6ce7GFoD8fJMLVNiTUyJo0Er71GZWjBc9xj4LcbipZkWgRbqt/U+Y6bSDQfy765E/5tMLQ+ac4528eQQuGGOGykj5bnPnO+n1Ddl6Je5y0bsOXOo9jxDq/X/LtMsOPcDBz5/cef/tfU3Je8+1NUJvc9mnR/BuN+cvIZi5bwoU5enZxLZdnZ6EF1ERPZSFBAREalCARERkSr2BQEZi2nRsl2xSLYLBlKZwcX0VLbUWNY24Adlnp+PerarbFulH2tlne4t42Nt3JcLY++E/c+Yqs1Y1cYW8uk+g8xuZA8w1gKdEbJXsS8IyFhMi+2KRbLdMDuKtQG8YMw0W4aRZnM/poqy4vo5W8hnO8q2DPqxVtbp3nbjvuytAsK6Ia6B92yjMo/+M0jDjgYgzxGz/FwouRexLwjIGHtjzJDtArGlJbyvTg3d12Ot7DRDM8EWZV9/BvcrVi0gtGDYnI6prazeZv5/u9cQ3WNW9tI9vkP+zWputo3oLg6cEtOi+9utxCJZJC4IsGKdLTr+MY9jjcSr8l9aXrgw2HeL1cWsaP9073jKea8s99BiyynxKLhOXtA2rgX7dLFgj/2WcBWwloFWOr2G5+UxyyjbOjDkwmJNB9OKeZ5Yo8OuBExnvnzO8VPikFD/98x8eZYxiPOejSHm5bFIWQiLzL25Rn7H1vPflHXQ7lA97x5j1Hk2WMND7433k+eqv8Nw14V1YSwes+WIuOoz2D5L9B5p6PHcXpF5/OvA8WPPqayQVQkILwOLsojnwIPHwj4CCbFwi51cedDbeAc8lDyIbNBHt5/4EMRbYHHelJgW/fPWxiJZNC4IsKAMkWJrcESDh/vMzOP5WYb/itJlZ7tttgA5Lz/ns6fmMaz4ZmsQXqR2J+Ap8Si4TvbwemSe5yt5Hl54tkLHMHDPMbBHZB73WkLZ1oW+C4v62B1FdGloYLhOirKSnmfvshnHj8Uh4Vn9yyir8FlAeoPM98mxuavBGGN5XDmhLAgiPS4WN3Jf2ByT54F3hwbPy/O4sXvMe/UzmTgvz+5GXFVAui6sj8TiMVsQm6FnkON+PMpuBOyndmTmw1b17XqssWuQHWBVAoKxxqjujrI1BIaNh4eV0Bi/dkM6hIBeAK0yBrzxs7OlCNte0Foei2nRpzYWCSvUiQ2xSFyQFoSGF4hxF0TmyCwjg/yIIUb48KwLPkcMb5T18uos4+eyXp7XyXdKPIp75/e80K0RQkyelMdwvl15zLOXWLZ1hftOq5YV3fjccWeeFJvP06yxiHlxSD6QeSDoPBs8C7T8qWPqiVXlbxwp1yET8jhzQlkQcZ5TFtJybxARnpMXxubGllPuMRyQ3/HOLbK78iIxWy6Mqz6DR8XmbggIEr0OgmPheeB9f2WWd+wa2n3rZIWsSkA2ojzYuFrari2tJ2463fh2LyFaMbSa2tlStBppVR2eZR2LabEI82KR8ADvisXigrTQ8qOF1vZQaKHR5UYIj+n8jvMhqrfIRD3sjs1rPyXPcc38eyweBSJI/bCPUzeuBEKLC2sjysvaZVllW1coLw2HdjsV7ssTMs1jXhwS6pB6YyV+u78ZjRIaIjRAaPyMCciUPFoBmVcWegTt7sbtLsL89k2xea+n3GMEo92letEdoxeN2TLElVnmdqsg7ATic3SUXuSUa3hryMpZlYDwcvBw0a0lvgGtfFouGD0M0QGd33VjIlyeid9NiWmxCPNikWCQa+KCQP8abpR5/cnAb5nGyDW14Ui7Yxn8zRjHLfLvsXgUB+W5+vWDyM7yzS+rbOsKBoaddOk10rJGUNhni9Yx4w2zZvzMi0NCAwOj9sHe8TSGqPsbTyjXInnMKgv7cfEOsZvvx3rfb+R3MOUet8d/KhZn0ZgtQ/D7T/Y+uzQ2d2eecg2yA6xKQBjLeEUUI82gMmMNDFrj7/3a3m9nbc/OAzUW02IR5m0Df2nUxQVp6RoFyozA0bJ8y/DPvyoGiGQ/pnt3l9exeBTULYadF61bH9QVrbb/GTjvssq2rlAf1BnTRdlCnsF0BoFxn+AeOXPGcfOeDfLk/vYjYlLP1NGUqcOL5DGrLG0P/OC46r25Vuf/U+7x0Z1zLTqNdtEwDTX5TLkG2QFWJSC7oggFvvN/ys8YTMM/+4WYBi/VWEyLIWpikdDarokLMgRuLwzwrijd7PYFfWh+ht+bQXEMAa6yC/J7WlXMpqI3MSXWBQKC/5gu/c06v2HmDO4vBsFZqNWti2WUbZ3Bp0690Qg4NRM+dRox9J7OjMUhlgwbZ/Js4FJpn18aSbT6T45xlpEH8A4gOvRM2/EGGhCM+7S9+in3eFkiMIVuMK2pTLkG46bsAKsSELrIGCFafRgdxjQwdBihd8S07u6UmBZD1MQiqY0LMsQ78pxt7AiMFi887ryzovQiSPiAT4oyuM8g/glRDAG/mRqPgvEjBIbByWfmtf9iXs+p+TetuXvkOc5dQtnWGdwr9Dhw9fHMILJMI6U+L4g6eJZ3RxElXCr0AGkIMftuI4pYryIP4P7RImereYQDI4pRZcyA5+6KmPb8XT9Wx5djz2fwPROOmXINsgOsSkBoreNKQDQY0GQ2BlNLeYl54I+IaYzFtBiiJhYJ1MYF6YN4MW7BtEe2av/VKAOV5IkQtVuK8JvH5fnalwSjf0hMj0fBy8h0SIJmMSCLMJ+deeNvR2hwJTKLjWBFt15C2daZ9n4xswlxbQ0q01W3Muj63CjiRL1Qbwxgsz09dfbhJeUxpVHF8TQQTooy845WOu5Nxndo6LSNp7F7vEoBoSHUfQbvE+NMfYdkxaxKQDDEv5epzxPzX7rg/VWuvEi37H02FtNiiJpYJDVxQf42Ux9cYCdmmgUvxC9nGoKXZEo8CtxYPzwjD1p+j8u0zLKtC0Mr0V+RqfZ46MchYXzs5JjuaoJ+DJWxPKaUBZGgUcBU7YflZ7i0eAa7g9tj93gjpk2I6K9Er4nZMvQMHtv7Ddf+8N5nU55TWTH7w1YmIvsqGF4aPaxhwm1JDwvXDjMdmSiwTnuByT6IAiKy90Jvky1H6Nkz9sWUXiZ6MMMRF68bE8q2ooCI7L0wBsjKbNysd4oyNsbEj9Nj+uxGkWp2UkDWNabEdjMWj2NZMRd2AgZ+GadhoJP7S8v4zSHbCWMpZ0bdlGSRLbGTArKuMSW2kynxOJYRc2GnYPoo04dZ58Aq8HVfJyIiW0AX1mqZEgthGTEXdop2QSfrGcb2gxKRvZydiAcyL6YEbg9iXbBZIf5cpuzSNb+s95uheBeXxXDY0H7IW1xEbFbHVMc7R5nJwvqJUzJv3EfsHsxGjvQUultSz4tHMBbPZCgWwtCOtl0X1sV5zNn5HdfM3P7TYn4clPa6uc5j8hg27WvjnYzFmqAuHxBlxTlbjrfutgPzcxYUvrhXN+wEzBoUNlgkBgsrqrkPB8f8mBcsLuV5YBNIdht+R6bj87o5nhXbTEtlE82L8ndsTcLeTawq7+7TJSIrYpXxQMZiShya32MwWaHazhfH4LAAESM8L94F+Q2FDe2HvG3jjuCrPyzLwpbYCBqGsd08kHM/K/OHsXgEY/FMMMpDsRD6dF1YV+Z52MmYRVcbUQwz52Ux3KyeCgOqjCsdkvWLEBBf4aVZnjas77xYDtfL8zCj59zM9yZZVyx4u7R3zuvleQ7Ka7thXgsiOS/mBeK1KzY3bKTuPpjXzar7o/K6j82yUxYECSFhISQLKY8LRURk5axKQDAkYzElaL0+OH/HKl0MPi1xxgwwaBj0sXgXU8GA0xrHUDNXHr/9z2We983fvCDPhxGdGlNhLJ5JPxbCFBCsG2ZZMMIICPXIQPVr46pz/VlYhpgijBhghJT73E71ZB+xtgcwL5YDPb/HZtm5bsSewFjEsDg1rjpFFBFHJBFdBOLtme+UmBc0Hlg4dlr+jWgwIM8KaXp1xDppN0GkJ3OXvK7js8z0WqfuTSYiS2JVAtKGYN0dwzElcKXQwsdQdGNZYFDoTbCL6pR4F1PjgmB0cX1ckn+zCp6Vrhjm1i1DWdo4IFPiEcC8eCa1IJJnxOZmebS8cbnRUxra/ZWeAQaae9v2wqg7enAY5e4OsPNiOWDwEQ7qnP2a2E4e9937Ytx9BovEvNgYyJPr5r62PVR6fbjAXte5rvdnua8dIrJyViUgYzElEJHr5/fdWBq0aBlrYGVtTbyLWWB0L+78jRhheC/pfdYyNR7BvHgmtWBI+3EaqLsDYngPMMSAHhI9FFyCuL7Ykp06vrhXlnmxHDgH4zdc822jGHlcY7jxutc4i63EvIgsxyd6f5NP9963+c7bC01EtolVCQhGfl5MCQzXpfn3QbHnoPm18+8p8S7abaIP6H3fv85F4x5MiUdw/07ey2aRPNsIdbTwX53/Z8Uy4zFPWjBfrpWxnNaNRL2fMbEci8a8GCqLK6lF1phVCchYTIkv5m8YM7h5/r/9DW4QeiFT4l18Is/TDad5TCwWXnOIKfEIplATC2FR6G0wRsA4BhtVUlbKjnuvjfA2FcQDwWBWHDv+cu/eG9NYVswLEVlTViUgjBXMiymBkWNaKAO4+MgZiMXgMBMHQXla5jMW74LWNy1bxgAQkhvk91txIcGy4hH0YyGcFsvns5kYu2AMAbccs7gYpKa+rr5AXtwXxhwQSoSYAfepG/QtK+bFIjBZg90NmLnnCniRbWZVAsI4wVhMiTbaIDOscLtg9BnIZZpmu/BuLN4FxxArgJlTbCnNIDErvh+yxfIvKx5BPxbCrWP5MK6E0NErYrot4wvMDCMuBr001ricHdPhvtAjZArvOQuWZRkxLxbh5nkuGhQKiMg2s8qFhFNiSiAY9xvJZ168C1rMQ/EIutuGDK30flGmLk/P1DIWj2Ao3348k6FYCGP5DMVKOCHm8/pMfV7S+f/UWA5X5jnpzYwFS1o0bgb5Hj/wOefpXzeNh6N6n7HQ9Kadv5nZd90QkZXgViYyBuNW9FpwGV4eIiKJAiKzuE2UKbv0BGjZL+q+EpF9HAVEZrERZTsUBs2ZvGDcaRHZAwVEZsGA99TtVkRkP0QBERGRKhQQERGpQgEREZEqFBAREalCARERkSoUEBERqUIBERGRKhQQERGpQgEREZEqFBAREalCARERkSoUEBERqUIBERGRKhQQERGpQgEREZEqFBAREalCARERkSoUEBERqUIBERGRKhQQERGpQgEREZEqFBAREalCARERkSoUEBERqUIBERGRKhQQERGpQgEREZEqFBAREalCARERkSoUEBERqUIBERGRKhQQERGpQgEREZEqFBAREalCARERkSoUEBERqUIBERGRKhQQERGpQgEREZEqFBAREalCARERkSoUEBERqUIBERGRKhQQERGpQgEREZEqFBAREalCARERkSr+HzWzW7uQF7lLAAAAAElFTkSuQmCC\"></img></div>\n",
       "<div></div>\n",
       "</div>"
      ]
     },
     "metadata": {},
     "output_type": "display_data"
    },
    {
     "data": {
      "text/plain": [
       "/F1 16 Tf\n",
       "16 TL\n",
       "BT\n",
       "1 0 0 1 25 100 Tm\n",
       "[(This is test ) -814.8699104785919 30 -731.1156094074249 ( par) 10 (ag) 10 (r) 10 (aph) ]TJ\n",
       "T*\n",
       "[(that w)10(e will redact an area from)] TJ\n",
       "\n",
       "T*\n",
       "[(and the redacted ) -891.5582597255707 30 -743.7138855457306 ( is no longer in the ) ]TJ\n",
       "T*\n",
       "[(document in an)15(y f)30(or)-25(m.)] TJ\n",
       "\n",
       "ET\n"
      ]
     },
     "metadata": {},
     "output_type": "display_data"
    }
   ],
   "source": [
    "void Redact() // wrap in function due to polyglot notebook / ref struct\n",
    "{\n",
    "    var redaction = new SinglePassRedactor(pg, true); // randomize spacing to prevent reconstruction attempts in non monospace fonts\n",
    "    pg = redaction.RedactContent(c => areas.Any(a => c.BoundingBox.Intersects(a)));\n",
    "}\n",
    "\n",
    "Redact();\n",
    "\n",
    "display(pg);\n",
    "display(pg.DumpDecodedContents());"
   ]
  }
 ],
 "metadata": {
  "kernelspec": {
   "display_name": ".NET (C#)",
   "language": "C#",
   "name": ".net-csharp"
  },
  "language_info": {
   "name": "polyglot-notebook"
  },
  "orig_nbformat": 4,
  "polyglot_notebook": {
   "kernelInfo": {
    "defaultKernelName": "csharp",
    "items": [
     {
      "aliases": [],
      "name": "csharp"
     }
    ]
   }
  }
 },
 "nbformat": 4,
 "nbformat_minor": 2
}
