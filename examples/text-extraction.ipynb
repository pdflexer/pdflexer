{
 "cells": [
  {
   "cell_type": "code",
   "execution_count": 1,
   "metadata": {
    "dotnet_interactive": {
     "language": "csharp"
    },
    "polyglot_notebook": {
     "kernelName": "csharp"
    }
   },
   "outputs": [],
   "source": [
    "#!import \"setup.ipynb\"\n",
    "\n",
    "using PdfLexer.Content;"
   ]
  },
  {
   "attachments": {},
   "cell_type": "markdown",
   "metadata": {},
   "source": []
  },
  {
   "attachments": {},
   "cell_type": "markdown",
   "metadata": {},
   "source": [
    "## PDF Text Extraction\n",
    "\n",
    "PdfLexer provides multiple ways to extract text from pdf pages:\n",
    "* **TextScanner** - Lowest level and most performant method for text extraction. Scans over individual characters on the page. Accessed via *PdfPage.GetTextScanner()*.\n",
    "* **SimpleWordScanner** - Scans over letters of a page grouping them into words based on spacing between previous and current character. This scanner will not produce accurate results if the pdf writes characters of a word out of order which is uncommon. Accessed via *Page.GetWordScanner()*.\n",
    "* **GetTextVisually** - Returns a rough representation of the pages text similar to how it is shown in the PDF. Different font sizes and characters not neatly grouped into lines may not display accurately in the resulting text. This algorithm is a work in progress and behavior may change over time. Accessed via *Page.GetTextVisually()* extension method.\n",
    "\n",
    "The PDF spec includes predefined character maps that can be used in some circumstances to extract the unicode value of glyphs when it would not otherwise be possible. Due to the size of the character maps, PdfLexer includes them in an optional nuget package `PdfLexer.CMaps`.  After adding the nuget reference, `CMaps.AddKnownPdfCMaps()` must be called in order to register them globally. Calling this a second time is a no-op and may be called multiple times without signifanct performance impact.\n",
    "\n",
    "For the examples the \"calgray.pdf\" is used (displayed below)."
   ]
  },
  {
   "cell_type": "code",
   "execution_count": 5,
   "metadata": {
    "dotnet_interactive": {
     "language": "csharp"
    },
    "polyglot_notebook": {
     "kernelName": "csharp"
    }
   },
   "outputs": [
    {
     "data": {
      "text/html": [
       "<div style=\"display:inline-block\">\n",
       "<div style=\"background: white; float: left;\"><img src=\"data:image/png;base64,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\"></img></div>\n",
       "<div></div>\n",
       "</div>"
      ]
     },
     "metadata": {},
     "output_type": "display_data"
    }
   ],
   "source": [
    "{\n",
    "    using var doc = PdfDocument.Open(GetPdf(\"calgray.pdf\"));\n",
    "    display(doc.Pages[0]);\n",
    "}"
   ]
  },
  {
   "attachments": {},
   "cell_type": "markdown",
   "metadata": {},
   "source": [
    "### GetTextVisually\n",
    "\n",
    "In this examlpe the visual text representation for this pdf does a good job of showing the layout of the actual text but often has innacurate line representations when multiple font sizes are used."
   ]
  },
  {
   "cell_type": "code",
   "execution_count": 2,
   "metadata": {
    "dotnet_interactive": {
     "language": "csharp"
    },
    "polyglot_notebook": {
     "kernelName": "csharp"
    }
   },
   "outputs": [
    {
     "name": "stdout",
     "output_type": "stream",
     "text": [
      "       WhitePoint [ 1.0 1.0 1.0 ] BlackPoint [ 0.0 0.0 0.0 ] Gamma    1.0\n",
      "\n",
      "       A = 0.75                   A  = 0.80                  A  = 0.90                   A = 1.00\n",
      "       A = 0.55                   A  = 0.60                  A  = 0.65                   A = 0.70\n",
      "       A = 0.35                   A  = 0.40                  A  = 0.45                   A = 0.50\n",
      "       A = 0.15                   A  = 0.20                  A  = 0.25                   A = 0.30\n",
      "\r\n"
     ]
    }
   ],
   "source": [
    "\n",
    "{\n",
    "    using var doc = PdfDocument.Open(GetPdf(\"calgray.pdf\"));\n",
    "    Console.WriteLine(doc.Pages.First().GetTextVisually());\n",
    "}"
   ]
  },
  {
   "attachments": {},
   "cell_type": "markdown",
   "metadata": {},
   "source": [
    "### TextScanner\n",
    "\n",
    "The TextScanner is a high performance utility for extraction characters / locations from pdf pages. It scans over each glyph on the page by using the `Advance()` method. A single glyph on a pdf page can represent multiple unicode characters and the unicode representation of a glyph is accessed via `Scanner.Glyph.Char` if it is a single character or `Scanner.Glyph.MultiChar` if it represents multiple characters. `Scanner.EnumerateCharacters()` can be used to simplify character access for each glyph covering both single and multicharacter scenarios.\n",
    "\n",
    "`Scanner.GraphicsState` provides access to the PDF graphics state (font, color, size, etc) at the point the character was drawn.\n",
    "\n",
    "The `TextScanner` is recommended for text extraction as it allows the user to segment characters in to words as needed for their use case. PdfLexer's word segmentation algorithms are not very robust at this time."
   ]
  },
  {
   "cell_type": "code",
   "execution_count": 3,
   "metadata": {
    "dotnet_interactive": {
     "language": "csharp"
    },
    "polyglot_notebook": {
     "kernelName": "csharp"
    }
   },
   "outputs": [
    {
     "name": "stdout",
     "output_type": "stream",
     "text": [
      "Font size: 16\n",
      "Font: <<Type Font Subtype Type1 BaseFont Times-Roman >>\n",
      "Pos:  (50, 50)\n",
      "BBox:  [50.24 50 61.296 60.784]\n",
      "char: A x: 50 y: 50"
     ]
    }
   ],
   "source": [
    "// text scanner is a ref struct, need to wrap in static non-async method for notebook\n",
    "static void Run()\n",
    "{\n",
    "    using var doc = PdfDocument.Open(GetPdf(\"calgray.pdf\"));\n",
    "    var pg = doc.Pages.First();\n",
    "    var scanner = pg.GetTextScanner();\n",
    "    while (scanner.Advance()) \n",
    "    {\n",
    "        Console.WriteLine(\"Font size: \" + scanner.GraphicsState.FontSize);\n",
    "        Console.WriteLine(\"Font: \" + scanner.GraphicsState.FontObject);\n",
    "        Console.WriteLine(\"Pos:  \" + scanner.GetCurrentTextPos());\n",
    "        Console.WriteLine(\"BBox:  \" + scanner.GetCurrentBoundingBox());\n",
    "        foreach (var charInfo in scanner.EnumerateCharacters())\n",
    "        {\n",
    "            Console.Write(\"char: \" + charInfo.Char);\n",
    "            Console.Write(\" x: \"+ charInfo.XPos);\n",
    "            Console.Write(\" y: \"+ charInfo.YPos);\n",
    "        }\n",
    "        break; // just show info for first character for notebook\n",
    "    }\n",
    "}\n",
    "Run();"
   ]
  },
  {
   "attachments": {},
   "cell_type": "markdown",
   "metadata": {},
   "source": [
    "### SimpleWordScanner\n",
    "\n",
    "The SimpleWordScanner scans over each word on the page by using the `Advance()` method. \n",
    "\n",
    "`Scanner.GraphicsState` provides access to the PDF graphics state (font, color, size, etc) at the point the last character of the word was drawn."
   ]
  },
  {
   "cell_type": "code",
   "execution_count": 4,
   "metadata": {
    "dotnet_interactive": {
     "language": "csharp"
    },
    "polyglot_notebook": {
     "kernelName": "csharp"
    }
   },
   "outputs": [
    {
     "name": "stdout",
     "output_type": "stream",
     "text": [
      "Font size: 16\n",
      "A\n",
      "[50.24 50 61.296 60.784]\n"
     ]
    }
   ],
   "source": [
    "// word scanner is a ref struct, need to wrap in static non-async method for notebook\n",
    "static void Run()\n",
    "{\n",
    "    using var doc = PdfDocument.Open(GetPdf(\"calgray.pdf\"));\n",
    "    var pg = doc.Pages.First();\n",
    "    var scanner = pg.GetWordScanner();\n",
    "    while (scanner.Advance()) \n",
    "    {\n",
    "        Console.WriteLine(\"Font size: \" + scanner.GraphicsState.FontSize);\n",
    "        Console.WriteLine(scanner.CurrentWord);\n",
    "        Console.WriteLine(scanner.GetWordBoundingBox());\n",
    "        break; // just show info for first character for notebook\n",
    "    }\n",
    "}\n",
    "Run();"
   ]
  }
 ],
 "metadata": {
  "kernelspec": {
   "display_name": ".NET (C#)",
   "language": "C#",
   "name": ".net-csharp"
  },
  "language_info": {
   "name": "polyglot-notebook"
  },
  "orig_nbformat": 4,
  "polyglot_notebook": {
   "kernelInfo": {
    "defaultKernelName": "csharp",
    "items": [
     {
      "aliases": [],
      "name": "csharp"
     }
    ]
   }
  }
 },
 "nbformat": 4,
 "nbformat_minor": 2
}
